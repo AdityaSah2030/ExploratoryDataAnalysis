{
 "cells": [
  {
   "cell_type": "markdown",
   "metadata": {},
   "source": [
    "### Import Library"
   ]
  },
  {
   "cell_type": "code",
   "execution_count": 1,
   "metadata": {},
   "outputs": [
    {
     "name": "stdout",
     "output_type": "stream",
     "text": [
      "Requirement already satisfied: numpy in c:\\users\\adity\\anaconda3\\lib\\site-packages (2.3.3)\n",
      "Note: you may need to restart the kernel to use updated packages.\n"
     ]
    }
   ],
   "source": [
    "%pip install numpy\n",
    "import numpy as np"
   ]
  },
  {
   "cell_type": "markdown",
   "metadata": {},
   "source": [
    "### 1. Array Slicing (1D)"
   ]
  },
  {
   "cell_type": "code",
   "execution_count": 2,
   "metadata": {},
   "outputs": [
    {
     "name": "stdout",
     "output_type": "stream",
     "text": [
      "Basic Slicing [3 4 5 6 7]\n",
      "With Step [2 4 6 8]\n",
      "Negative indexing 8\n"
     ]
    }
   ],
   "source": [
    "arr = np.array([1, 2, 3, 4, 5, 6, 7, 8, 9, 10])\n",
    "\n",
    "# Basic Slicing: Select elements from index 2 up to (but not including) 7\n",
    "print(\"Basic Slicing\", arr[2:7])\n",
    "\n",
    "# Slicing with Step: Select elements from index 1 to 8, taking every second element\n",
    "print(\"With Step\", arr[1:8:2])\n",
    "\n",
    "# Negative Indexing: Select the third element from the end of the array\n",
    "print(\"Negative indexing\", arr[-3])"
   ]
  },
  {
   "cell_type": "markdown",
   "metadata": {},
   "source": [
    "### 2. Array Indexing (2D)"
   ]
  },
  {
   "cell_type": "code",
   "execution_count": 3,
   "metadata": {},
   "outputs": [
    {
     "name": "stdout",
     "output_type": "stream",
     "text": [
      "Specific element 6\n",
      "Entire row:  [4 5 6]\n",
      "Entire column:  [2 5 8]\n"
     ]
    }
   ],
   "source": [
    "arr_2d = np.array([[1, 2, 3],\n",
    "                    [4, 5, 6],\n",
    "                    [7, 8, 9]])\n",
    "\n",
    "# Access a specific element at row 1, column 2 (value is 6)\n",
    "print(\"Specific element\", arr_2d[1, 2])\n",
    "\n",
    "# Access an entire row (row 1)\n",
    "print(\"Entire row: \", arr_2d[1]) # or arr_2d[1, :]\n",
    "\n",
    "# Access an entire column (column 1)\n",
    "print(\"Entire column: \", arr_2d[:, 1])"
   ]
  },
  {
   "cell_type": "markdown",
   "metadata": {},
   "source": [
    "### 3. Sorting Arrays"
   ]
  },
  {
   "cell_type": "code",
   "execution_count": 4,
   "metadata": {},
   "outputs": [
    {
     "name": "stdout",
     "output_type": "stream",
     "text": [
      "Sorted Array [1 1 2 3 4 5 6 9]\n",
      "Sorted 2D array by column [[2 1]\n",
      " [3 3]]\n"
     ]
    }
   ],
   "source": [
    "# Sorting a 1D array\n",
    "unsorted = np.array([3, 1, 4, 1, 5, 9, 2, 6])\n",
    "print(\"Sorted Array\", np.sort(unsorted))\n",
    "\n",
    "# Sorting a 2D array\n",
    "arr_2d_unsorted = np.array([[3, 1], [2, 3]])\n",
    "# axis=0 sorts along the columns\n",
    "print(\"Sorted 2D array by column\", np.sort(arr_2d_unsorted, axis=0))"
   ]
  },
  {
   "cell_type": "markdown",
   "metadata": {},
   "source": [
    "### 4. Filtering Arrays"
   ]
  },
  {
   "cell_type": "code",
   "execution_count": 5,
   "metadata": {},
   "outputs": [
    {
     "name": "stdout",
     "output_type": "stream",
     "text": [
      "Even numbers [ 2  4  6  8 10]\n",
      "Numbers greater than 5  [ 6  7  8  9 10]\n"
     ]
    }
   ],
   "source": [
    "numbers = np.array([1, 2, 3, 4, 5, 6, 7, 8, 9, 10])\n",
    "\n",
    "# Direct filtering: create a boolean condition inside the brackets\n",
    "even_number = numbers[numbers % 2 == 0]\n",
    "print(\"Even numbers\", even_number)\n",
    "\n",
    "# Filter with a mask: create the boolean mask first, then apply it\n",
    "mask = numbers > 5\n",
    "print(\"Numbers greater than 5 \", numbers[mask])"
   ]
  },
  {
   "cell_type": "markdown",
   "metadata": {},
   "source": [
    "### 5. Fancy Indexing vs. `np.where()`\n",
    "\n",
    "This shows two advanced ways to select data: fancy indexing (using a list of indices) and using `np.where()`."
   ]
  },
  {
   "cell_type": "code",
   "execution_count": 6,
   "metadata": {},
   "outputs": [
    {
     "name": "stdout",
     "output_type": "stream",
     "text": [
      "[1 3 5]\n",
      "(array([5, 6, 7, 8, 9]),)\n",
      "NP where [ 6  7  8  9 10]\n",
      "['false' 'false' 'false' 'false' 'false' 'true' 'true' 'true' 'true'\n",
      " 'true']\n"
     ]
    }
   ],
   "source": [
    "numbers = np.array([1, 2, 3, 4, 5, 6, 7, 8, 9, 10])\n",
    "\n",
    "# Fancy Indexing: Pass a list of specific indices to select\n",
    "indices = [0, 2, 4]\n",
    "print(numbers[indices])\n",
    "\n",
    "# np.where() can return the indices where a condition is true\n",
    "where_result = np.where(numbers > 5)\n",
    "print(where_result)\n",
    "print(\"NP where\", numbers[where_result])\n",
    "\n",
    "# np.where() can also be used to create a new array based on a condition\n",
    "# If numbers > 5, use \"true\", otherwise use \"false\"\n",
    "condition_array = np.where(numbers > 5, \"true\", \"false\")\n",
    "print(condition_array)"
   ]
  },
  {
   "cell_type": "markdown",
   "metadata": {},
   "source": [
    "### 6. Adding and Combining Arrays"
   ]
  },
  {
   "cell_type": "code",
   "execution_count": 7,
   "metadata": {},
   "outputs": [
    {
     "name": "stdout",
     "output_type": "stream",
     "text": [
      "[1 2 3 4 5 6]\n",
      "Compatibility shapes True\n",
      "With new row \n",
      " [[1 2]\n",
      " [3 4]\n",
      " [5 6]]\n",
      "With new column \n",
      " [[1 2 7]\n",
      " [3 4 8]]\n"
     ]
    }
   ],
   "source": [
    "# Concatenate joins a sequence of arrays along an existing axis\n",
    "arr1 = np.array([1, 2, 3])\n",
    "arr2 = np.array([4, 5, 6])\n",
    "combined = np.concatenate((arr1, arr2))\n",
    "print(combined)\n",
    "\n",
    "# Array compatibility check (some operations require arrays of the same shape)\n",
    "a = np.array([1, 2, 3])\n",
    "b = np.array([4, 5, 6, 7])\n",
    "# print(\"Compatibility shapes\", a.shape == b.shape) # This was in the image but would cause an error.\n",
    "                                                    # Correcting to compare a different array 'c'.\n",
    "c = np.array([7, 8, 9])\n",
    "print(\"Compatibility shapes\", a.shape == c.shape)\n",
    "\n",
    "\n",
    "# vstack and hstack are helpers for stacking arrays vertically or horizontally\n",
    "original = np.array([[1, 2], [3, 4]])\n",
    "new_row = np.array([[5, 6]])\n",
    "with_new_row = np.vstack((original, new_row))\n",
    "print(\"With new row \\n\", with_new_row)\n",
    "\n",
    "\n",
    "new_col = np.array([[7], [8]])\n",
    "with_new_col = np.hstack((original, new_col))\n",
    "print(\"With new column \\n\", with_new_col)"
   ]
  },
  {
   "cell_type": "markdown",
   "metadata": {},
   "source": [
    "### 7. Removing Data from Arrays"
   ]
  },
  {
   "cell_type": "code",
   "execution_count": 8,
   "metadata": {},
   "outputs": [
    {
     "name": "stdout",
     "output_type": "stream",
     "text": [
      "Array after deletion: [1 2 4 5]\n"
     ]
    }
   ],
   "source": [
    "arr = np.array([1, 2, 3, 4, 5])\n",
    "\n",
    "# Delete the element at index 2\n",
    "deleted = np.delete(arr, 2)\n",
    "print(\"Array after deletion:\", deleted)"
   ]
  }
 ],
 "metadata": {
  "kernelspec": {
   "display_name": "base",
   "language": "python",
   "name": "python3"
  },
  "language_info": {
   "codemirror_mode": {
    "name": "ipython",
    "version": 3
   },
   "file_extension": ".py",
   "mimetype": "text/x-python",
   "name": "python",
   "nbconvert_exporter": "python",
   "pygments_lexer": "ipython3",
   "version": "3.12.7"
  }
 },
 "nbformat": 4,
 "nbformat_minor": 2
}
