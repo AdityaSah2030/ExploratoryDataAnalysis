{
 "cells": [
  {
   "cell_type": "markdown",
   "metadata": {},
   "source": [
    "### 1. Import Library"
   ]
  },
  {
   "cell_type": "code",
   "execution_count": 1,
   "metadata": {},
   "outputs": [
    {
     "name": "stdout",
     "output_type": "stream",
     "text": [
      "Requirement already satisfied: numpy in c:\\users\\adity\\anaconda3\\lib\\site-packages (2.3.3)\n",
      "Note: you may need to restart the kernel to use updated packages.\n"
     ]
    }
   ],
   "source": [
    "%pip install numpy\n",
    "import numpy as np"
   ]
  },
  {
   "cell_type": "markdown",
   "metadata": {},
   "source": [
    "### 2. Creating Arrays from a List"
   ]
  },
  {
   "cell_type": "code",
   "execution_count": 2,
   "metadata": {},
   "outputs": [
    {
     "name": "stdout",
     "output_type": "stream",
     "text": [
      "1D array:  [1 2 3 4 5]\n",
      "2D array: \n",
      " [[1 2 3]\n",
      " [4 5 6]]\n"
     ]
    }
   ],
   "source": [
    "# Create a 1D array\n",
    "arr_1d = np.array([1, 2, 3, 4, 5])\n",
    "print(\"1D array: \", arr_1d)\n",
    "\n",
    "# Create a 2D array\n",
    "arr_2d = np.array([[1, 2, 3], [4, 5, 6]])\n",
    "print(\"2D array: \\n\", arr_2d)"
   ]
  },
  {
   "cell_type": "markdown",
   "metadata": {},
   "source": [
    "### 3. List vs. NumPy Array\n",
    "\n",
    "This section demonstrates the key differences between a standard Python list and a NumPy array, specifically in multiplication and performance. Multiplication on a list duplicates its contents, whereas on a NumPy array, it performs an element-wise mathematical operation. The time comparison shows that NumPy operations are significantly faster."
   ]
  },
  {
   "cell_type": "code",
   "execution_count": 3,
   "metadata": {},
   "outputs": [
    {
     "name": "stdout",
     "output_type": "stream",
     "text": [
      "Python list multiplication [1, 2, 3, 1, 2, 3]\n",
      "NumPy array multiplication [2 4 6]\n",
      "\n",
      "List operation time:  0.053999900817871094\n",
      "NumPy operation time:  0.006000041961669922\n"
     ]
    }
   ],
   "source": [
    "import time\n",
    "\n",
    "# List behavior\n",
    "py_list = [1, 2, 3]\n",
    "print(\"Python list multiplication\", py_list * 2)\n",
    "\n",
    "# NumPy array behavior\n",
    "np_array = np.array([1, 2, 3])\n",
    "print(\"NumPy array multiplication\", np_array * 2) # Note: this is element-wise multiplication\n",
    "\n",
    "# Performance comparison for a large list/array\n",
    "start = time.time()\n",
    "py_list = [i-2 for i in range(1000000)]\n",
    "print(\"\\nList operation time: \", time.time() - start)\n",
    "\n",
    "start = time.time()\n",
    "np_array = np.arange(1000000) * 2\n",
    "print(\"NumPy operation time: \", time.time() - start)"
   ]
  },
  {
   "cell_type": "markdown",
   "metadata": {},
   "source": [
    "### 4. Creating Arrays from Scratch\n",
    "\n",
    "NumPy provides several functions to create arrays without needing to start with a Python list."
   ]
  },
  {
   "cell_type": "code",
   "execution_count": 4,
   "metadata": {},
   "outputs": [
    {
     "name": "stdout",
     "output_type": "stream",
     "text": [
      "zeros array: \n",
      " [[0. 0. 0. 0.]\n",
      " [0. 0. 0. 0.]\n",
      " [0. 0. 0. 0.]]\n",
      "\n",
      "one array: \n",
      " [[1. 1. 1.]\n",
      " [1. 1. 1.]]\n",
      "\n",
      "full array: \n",
      " [[7 7]\n",
      " [7 7]]\n",
      "\n",
      "random array: \n",
      " [[0.75762477 0.60345528 0.09588469]\n",
      " [0.88494847 0.35733627 0.09868642]]\n",
      "\n",
      "sequence array: \n",
      " [ 0  2  4  6  8 10]\n"
     ]
    }
   ],
   "source": [
    "# Array of zeros\n",
    "zeros = np.zeros((3, 4))\n",
    "print(\"zeros array: \\n\", zeros)\n",
    "\n",
    "# Array of ones\n",
    "ones = np.ones((2, 3))\n",
    "print(\"\\none array: \\n\", ones)\n",
    "\n",
    "# Array filled with a specific value\n",
    "full = np.full((2, 2), 7)\n",
    "print(\"\\nfull array: \\n\", full)\n",
    "\n",
    "# Array with random values\n",
    "random = np.random.random((2, 3))\n",
    "print(\"\\nrandom array: \\n\", random)\n",
    "\n",
    "# Array with a sequence of numbers (from 0 up to 11, step 2)\n",
    "sequence = np.arange(0, 11, 2)\n",
    "print(\"\\nsequence array: \\n\", sequence)"
   ]
  },
  {
   "cell_type": "markdown",
   "metadata": {},
   "source": [
    "### 5. Vector, Matrix, and Tensor\n",
    "\n",
    "These are fundamental structures in data science and machine learning, represented here using NumPy arrays of different dimensions."
   ]
  },
  {
   "cell_type": "code",
   "execution_count": 5,
   "metadata": {},
   "outputs": [
    {
     "name": "stdout",
     "output_type": "stream",
     "text": [
      "Vector:  [1 2 3]\n",
      "Matrix: \n",
      " [[1 2 3]\n",
      " [4 5 6]]\n",
      "Tensor: \n",
      " [[[1 2]\n",
      "  [3 4]]\n",
      "\n",
      " [[5 6]\n",
      "  [7 8]]]\n"
     ]
    }
   ],
   "source": [
    "# Vector (1D array)\n",
    "vector = np.array([1, 2, 3])\n",
    "print(\"Vector: \", vector)\n",
    "\n",
    "# Matrix (2D array)\n",
    "matrix = np.array([[1, 2, 3],\n",
    "                    [4, 5, 6]])\n",
    "print(\"Matrix: \\n\", matrix)\n",
    "\n",
    "# Tensor (3D or higher-dimensional array)\n",
    "tensor = np.array([[[1, 2], [3, 4]],\n",
    "                    [[5, 6], [7, 8]]])\n",
    "print(\"Tensor: \\n\", tensor)"
   ]
  },
  {
   "cell_type": "markdown",
   "metadata": {},
   "source": [
    "### 6. Array Properties"
   ]
  },
  {
   "cell_type": "code",
   "execution_count": 6,
   "metadata": {},
   "outputs": [
    {
     "name": "stdout",
     "output_type": "stream",
     "text": [
      "Shape  (2, 3)\n",
      "Dimension  2\n",
      "Size  6\n",
      "DType  int64\n"
     ]
    }
   ],
   "source": [
    "arr = np.array([[1, 2, 3],\n",
    "                [4, 5, 6]])\n",
    "\n",
    "print(\"Shape \", arr.shape)      # Dimensions of the array (rows, columns)\n",
    "print(\"Dimension \", arr.ndim)   # Number of dimensions\n",
    "print(\"Size \", arr.size)        # Total number of elements\n",
    "print(\"DType \", arr.dtype)      # Data type of the elements"
   ]
  },
  {
   "cell_type": "markdown",
   "metadata": {},
   "source": [
    "### 7. Array Reshaping"
   ]
  },
  {
   "cell_type": "code",
   "execution_count": 7,
   "metadata": {},
   "outputs": [
    {
     "name": "stdout",
     "output_type": "stream",
     "text": [
      "Original array  [ 0  1  2  3  4  5  6  7  8  9 10 11]\n",
      "\n",
      "Reshaped array \n",
      " [[ 0  1  2  3]\n",
      " [ 4  5  6  7]\n",
      " [ 8  9 10 11]]\n",
      "\n",
      "Flattened array  [ 0  1  2  3  4  5  6  7  8  9 10 11]\n",
      "\n",
      "raveled array  [ 0  1  2  3  4  5  6  7  8  9 10 11]\n",
      "\n",
      "Transposed array \n",
      " [[ 0  4  8]\n",
      " [ 1  5  9]\n",
      " [ 2  6 10]\n",
      " [ 3  7 11]]\n"
     ]
    }
   ],
   "source": [
    "arr = np.arange(12)\n",
    "print(\"Original array \", arr)\n",
    "\n",
    "# Reshape the array to a 3x4 matrix\n",
    "reshaped = arr.reshape(3, 4)\n",
    "print(\"\\nReshaped array \\n\", reshaped)\n",
    "\n",
    "# Flatten the array back to 1D\n",
    "flattened = reshaped.flatten()\n",
    "print(\"\\nFlattened array \", flattened)\n",
    "\n",
    "# Ravel is similar to flatten but returns a view of the original array if possible\n",
    "raveled = reshaped.ravel()\n",
    "print(\"\\nraveled array \", raveled)\n",
    "\n",
    "# Transpose the array (swap rows and columns)\n",
    "transpose = reshaped.T\n",
    "print(\"\\nTransposed array \\n\", transpose)"
   ]
  }
 ],
 "metadata": {
  "kernelspec": {
   "display_name": "base",
   "language": "python",
   "name": "python3"
  },
  "language_info": {
   "codemirror_mode": {
    "name": "ipython",
    "version": 3
   },
   "file_extension": ".py",
   "mimetype": "text/x-python",
   "name": "python",
   "nbconvert_exporter": "python",
   "pygments_lexer": "ipython3",
   "version": "3.12.7"
  }
 },
 "nbformat": 4,
 "nbformat_minor": 2
}
